{
  "metadata": {
    "kernelspec": {
      "name": "python",
      "display_name": "Python (Pyodide)",
      "language": "python"
    },
    "language_info": {
      "codemirror_mode": {
        "name": "python",
        "version": 3
      },
      "file_extension": ".py",
      "mimetype": "text/x-python",
      "name": "python",
      "nbconvert_exporter": "python",
      "pygments_lexer": "ipython3",
      "version": "3.8"
    }
  },
  "nbformat_minor": 5,
  "nbformat": 4,
  "cells": [
    {
      "id": "0af1d767-1bc5-4f51-b4ef-c719edb402e9",
      "cell_type": "markdown",
      "source": "# Eddie Power\n## Calculus II\n### Assignment: *Project 0*\n> *09/02/2025*",
      "metadata": {}
    },
    {
      "id": "bcf9230e-51f9-4ce9-b2f2-ac365a667d7c",
      "cell_type": "markdown",
      "source": "My favorite function would be one of the major trig functions like f(x) = sin(x). This one and the others are extremely useful to calculate things accurately in everyday life. ",
      "metadata": {}
    },
    {
      "id": "ffc78a00-bdd0-442d-97c3-334ab09837c7",
      "cell_type": "code",
      "source": "import math\n\ndef f(x):\n    return math.sin(x)\n\n### A few values\nfor val in [0, math.pi/3, 1, 2, math.pi*10/9]:\n    print(f\"x = {val:10.5f}  ->  f(x) = {f(val):10.5f}\")",
      "metadata": {
        "trusted": true
      },
      "outputs": [
        {
          "name": "stdout",
          "output_type": "stream",
          "text": "x =    0.00000  ->  f(x) =    0.00000\nx =    1.04720  ->  f(x) =    0.86603\nx =    1.00000  ->  f(x) =    0.84147\nx =    2.00000  ->  f(x) =    0.90930\nx =    3.49066  ->  f(x) =   -0.34202\n"
        }
      ],
      "execution_count": 13
    },
    {
      "id": "4b0c8595-1a45-4133-b7c1-046bf6f79704",
      "cell_type": "markdown",
      "source": "Getting it to look nicer was harder than anything else",
      "metadata": {}
    },
    {
      "id": "6d5937ac-b875-4d2f-a23a-c61c23268eb3",
      "cell_type": "code",
      "source": "import sympy as sp\nx = sp.symbols('x')   # defines x as a variable\nf_fun = sp.sin(x)   # defines sin(x) as my function\n\n# Derivative and integral\nf_prime = sp.diff(f_fun, x)   # sets the derivative with respect to x\nF = sp.integrate(f_fun, x)   # sets the integral with respect to x\n\nsp.pretty_print(sp.Eq(sp.Symbol('f(x)'), f_fun))   # says A=B for the function\nsp.pretty_print(sp.Eq(sp.Symbol(\"f'(x)\"), f_prime))   # says A=B for the derivative\nsp.pretty_print(sp.Eq(sp.Symbol('∫f(x)dx'), F))   # says A=B for the integral\n",
      "metadata": {
        "trusted": true
      },
      "outputs": [
        {
          "name": "stdout",
          "output_type": "stream",
          "text": "f(x) = sin(x)\nf'(x) = cos(x)\n∫f(x)dx = -cos(x)\n"
        }
      ],
      "execution_count": 18
    },
    {
      "id": "905f5782-a722-4110-963f-0a91d8a249c9",
      "cell_type": "code",
      "source": "",
      "metadata": {
        "trusted": true
      },
      "outputs": [],
      "execution_count": null
    }
  ]
}